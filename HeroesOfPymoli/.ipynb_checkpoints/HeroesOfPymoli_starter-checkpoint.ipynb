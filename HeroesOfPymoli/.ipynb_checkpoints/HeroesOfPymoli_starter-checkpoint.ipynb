{
 "cells": [
  {
   "cell_type": "markdown",
   "metadata": {},
   "source": [
    "### Note\n",
    "* Instructions have been included for each segment. You do not have to follow them exactly, but they are included to help you think through the steps."
   ]
  },
  {
   "cell_type": "code",
   "execution_count": 4,
   "metadata": {},
   "outputs": [],
   "source": [
    "# Dependencies and Setup\n",
    "import pandas as pd\n",
    "\n",
    "# File to Load (Remember to Change These)\n",
    "file_to_load = \"Resources/purchase_data.csv\"\n",
    "\n",
    "# Read Purchasing File and store into Pandas data frame\n",
    "purchase_data = pd.read_csv(file_to_load)"
   ]
  },
  {
   "cell_type": "markdown",
   "metadata": {},
   "source": [
    "## Player Count"
   ]
  },
  {
   "cell_type": "markdown",
   "metadata": {},
   "source": [
    "* Display the total number of players\n"
   ]
  },
  {
   "cell_type": "code",
   "execution_count": 23,
   "metadata": {},
   "outputs": [
    {
     "data": {
      "text/plain": [
       "576"
      ]
     },
     "execution_count": 23,
     "metadata": {},
     "output_type": "execute_result"
    }
   ],
   "source": [
    "len(purchase_data[\"SN\"].unique())"
   ]
  },
  {
   "cell_type": "markdown",
   "metadata": {},
   "source": [
    "## Purchasing Analysis (Total)"
   ]
  },
  {
   "cell_type": "markdown",
   "metadata": {},
   "source": [
    "* Run basic calculations to obtain number of unique items, average price, etc.\n",
    "\n",
    "\n",
    "* Create a summary data frame to hold the results\n",
    "\n",
    "\n",
    "* Optional: give the displayed data cleaner formatting\n",
    "\n",
    "\n",
    "* Display the summary data frame\n"
   ]
  },
  {
   "cell_type": "code",
   "execution_count": 41,
   "metadata": {
    "scrolled": true
   },
   "outputs": [
    {
     "data": {
      "text/html": [
       "<div>\n",
       "<style scoped>\n",
       "    .dataframe tbody tr th:only-of-type {\n",
       "        vertical-align: middle;\n",
       "    }\n",
       "\n",
       "    .dataframe tbody tr th {\n",
       "        vertical-align: top;\n",
       "    }\n",
       "\n",
       "    .dataframe thead th {\n",
       "        text-align: right;\n",
       "    }\n",
       "</style>\n",
       "<table border=\"1\" class=\"dataframe\">\n",
       "  <thead>\n",
       "    <tr style=\"text-align: right;\">\n",
       "      <th></th>\n",
       "      <th>Num_Items</th>\n",
       "      <th>Unique_ITems</th>\n",
       "      <th>Total Revenue</th>\n",
       "      <th>Average</th>\n",
       "    </tr>\n",
       "  </thead>\n",
       "  <tbody>\n",
       "    <tr>\n",
       "      <td>0</td>\n",
       "      <td>780</td>\n",
       "      <td>179</td>\n",
       "      <td>2379.77</td>\n",
       "      <td>3.050987</td>\n",
       "    </tr>\n",
       "  </tbody>\n",
       "</table>\n",
       "</div>"
      ],
      "text/plain": [
       "   Num_Items  Unique_ITems  Total Revenue   Average\n",
       "0        780           179        2379.77  3.050987"
      ]
     },
     "execution_count": 41,
     "metadata": {},
     "output_type": "execute_result"
    }
   ],
   "source": [
    "num_items = purchase_data[\"Item Name\"].count()\n",
    "unique_items = len(purchase_data[\"Item Name\"].unique())\n",
    "#len(purchase_data[\"Item Name\"].unique())\n",
    "total_cost = sum(purchase_data[\"Price\"])\n",
    "#print(total_cost)\n",
    "average_cost =  total_cost / num_items\n",
    "new_frame = { \"Num_Items\" : [num_items] , \"Unique_ITems\" : [unique_items] , \"Total Revenue\" : [total_cost], \"Average\": [average_cost]}\n",
    "new_pd  = pd.DataFrame.from_dict(new_frame)\n",
    "new_pd"
   ]
  },
  {
   "cell_type": "markdown",
   "metadata": {},
   "source": [
    "## Gender Demographics"
   ]
  },
  {
   "cell_type": "markdown",
   "metadata": {},
   "source": [
    "* Percentage and Count of Male Players\n",
    "\n",
    "\n",
    "* Percentage and Count of Female Players\n",
    "\n",
    "\n",
    "* Percentage and Count of Other / Non-Disclosed\n",
    "\n",
    "\n"
   ]
  },
  {
   "cell_type": "code",
   "execution_count": 74,
   "metadata": {},
   "outputs": [
    {
     "name": "stdout",
     "output_type": "stream",
     "text": [
      "484\n",
      "81\n",
      "576\n",
      "11\n"
     ]
    },
    {
     "data": {
      "text/html": [
       "<div>\n",
       "<style scoped>\n",
       "    .dataframe tbody tr th:only-of-type {\n",
       "        vertical-align: middle;\n",
       "    }\n",
       "\n",
       "    .dataframe tbody tr th {\n",
       "        vertical-align: top;\n",
       "    }\n",
       "\n",
       "    .dataframe thead th {\n",
       "        text-align: right;\n",
       "    }\n",
       "</style>\n",
       "<table border=\"1\" class=\"dataframe\">\n",
       "  <thead>\n",
       "    <tr style=\"text-align: right;\">\n",
       "      <th></th>\n",
       "      <th>Gender</th>\n",
       "      <th>count</th>\n",
       "      <th>percent</th>\n",
       "    </tr>\n",
       "  </thead>\n",
       "  <tbody>\n",
       "    <tr>\n",
       "      <td>0</td>\n",
       "      <td>M</td>\n",
       "      <td>484</td>\n",
       "      <td>84.027778</td>\n",
       "    </tr>\n",
       "    <tr>\n",
       "      <td>1</td>\n",
       "      <td>F</td>\n",
       "      <td>81</td>\n",
       "      <td>14.062500</td>\n",
       "    </tr>\n",
       "    <tr>\n",
       "      <td>2</td>\n",
       "      <td>O</td>\n",
       "      <td>11</td>\n",
       "      <td>1.909722</td>\n",
       "    </tr>\n",
       "  </tbody>\n",
       "</table>\n",
       "</div>"
      ],
      "text/plain": [
       "  Gender  count    percent\n",
       "0      M    484  84.027778\n",
       "1      F     81  14.062500\n",
       "2      O     11   1.909722"
      ]
     },
     "execution_count": 74,
     "metadata": {},
     "output_type": "execute_result"
    }
   ],
   "source": [
    "unique_players = purchase_data[[\"SN\",\"Gender\"]].drop_duplicates()\n",
    "#print (unique_1)\n",
    "#unique_players = unique_1[\"SN\"].unique()\n",
    "#print(unique_players)\n",
    "males = unique_players.Gender.str.count(\"Male\").sum()\n",
    "females = unique_players.Gender.str.count(\"Female\").sum()\n",
    "num_items = len(unique_players)\n",
    "print (males) \n",
    "print (females) \n",
    "print (num_items)\n",
    "other = num_items - males - females \n",
    "print (other)\n",
    "per_m = males / num_items * 100\n",
    "per_f = females / num_items * 100 \n",
    "other_f = other / num_items * 100\n",
    "\n",
    "new_f = {\"Gender\" : [\"M\", \"F\" , \"O\"],\n",
    "          \"count\" : [males, females, other],\n",
    "         \"percent\" : [per_m, per_f, other_f]\n",
    "}\n",
    "\n",
    "new_pd  = pd.DataFrame.from_dict(new_f)\n",
    "new_pd"
   ]
  },
  {
   "cell_type": "markdown",
   "metadata": {},
   "source": [
    "\n",
    "## Purchasing Analysis (Gender)"
   ]
  },
  {
   "cell_type": "markdown",
   "metadata": {},
   "source": [
    "* Run basic calculations to obtain purchase count, avg. purchase price, avg. purchase total per person etc. by gender\n",
    "\n",
    "\n",
    "\n",
    "\n",
    "* Create a summary data frame to hold the results\n",
    "\n",
    "\n",
    "* Optional: give the displayed data cleaner formatting\n",
    "\n",
    "\n",
    "* Display the summary data frame"
   ]
  },
  {
   "cell_type": "code",
   "execution_count": 89,
   "metadata": {},
   "outputs": [
    {
     "data": {
      "text/html": [
       "<div>\n",
       "<style scoped>\n",
       "    .dataframe tbody tr th:only-of-type {\n",
       "        vertical-align: middle;\n",
       "    }\n",
       "\n",
       "    .dataframe tbody tr th {\n",
       "        vertical-align: top;\n",
       "    }\n",
       "\n",
       "    .dataframe thead th {\n",
       "        text-align: right;\n",
       "    }\n",
       "</style>\n",
       "<table border=\"1\" class=\"dataframe\">\n",
       "  <thead>\n",
       "    <tr style=\"text-align: right;\">\n",
       "      <th></th>\n",
       "      <th>Gender</th>\n",
       "      <th>count</th>\n",
       "      <th>total price</th>\n",
       "      <th>Avg</th>\n",
       "    </tr>\n",
       "  </thead>\n",
       "  <tbody>\n",
       "    <tr>\n",
       "      <td>0</td>\n",
       "      <td>M</td>\n",
       "      <td>652</td>\n",
       "      <td>1967.64</td>\n",
       "      <td>4.065372</td>\n",
       "    </tr>\n",
       "    <tr>\n",
       "      <td>1</td>\n",
       "      <td>F</td>\n",
       "      <td>113</td>\n",
       "      <td>361.94</td>\n",
       "      <td>4.468395</td>\n",
       "    </tr>\n",
       "    <tr>\n",
       "      <td>2</td>\n",
       "      <td>O</td>\n",
       "      <td>15</td>\n",
       "      <td>50.19</td>\n",
       "      <td>4.562727</td>\n",
       "    </tr>\n",
       "  </tbody>\n",
       "</table>\n",
       "</div>"
      ],
      "text/plain": [
       "  Gender  count   total price      Avg \n",
       "0      M     652      1967.64  4.065372\n",
       "1      F     113       361.94  4.468395\n",
       "2      O      15        50.19  4.562727"
      ]
     },
     "execution_count": 89,
     "metadata": {},
     "output_type": "execute_result"
    }
   ],
   "source": [
    "data = purchase_data[[\"SN\",\"Gender\",\"Price\"]]\n",
    "rslt_m = data[data['Gender'] ==\"Male\" ] \n",
    "rslt_f = data[data['Gender'] ==\"Female\" ]\n",
    "rslt_o = data[data['Gender'] == \"Other / Non-Disclosed\"]\n",
    "\n",
    "count_m = len(rslt_m)\n",
    "count_f = len(rslt_f)\n",
    "count_o =len(rslt_o)\n",
    "total_m = sum(rslt_m[\"Price\"])\n",
    "total_f = sum(rslt_f[\"Price\"])\n",
    "total_o = sum(rslt_o[\"Price\"])\n",
    "avg_m = total_m/males\n",
    "avg_f = total_f/females\n",
    "avg_o = total_o/other\n",
    "\n",
    "summary =  {\"Gender\" :  [\"M\" , \"F\" , \"O\"] ,\n",
    "           \"count \"  :  [count_m,count_f,count_o] ,\n",
    "            \"total price\" : [ total_m, total_f, total_o] ,\n",
    "            \"Avg \"   : [ avg_m,avg_f, avg_o ]}\n",
    "new_pd  = pd.DataFrame.from_dict(summary)\n",
    "new_pd"
   ]
  },
  {
   "cell_type": "markdown",
   "metadata": {},
   "source": [
    "## Age Demographics"
   ]
  },
  {
   "cell_type": "markdown",
   "metadata": {},
   "source": [
    "* Establish bins for ages\n",
    "\n",
    "\n",
    "* Categorize the existing players using the age bins. Hint: use pd.cut()\n",
    "\n",
    "\n",
    "* Calculate the numbers and percentages by age group\n",
    "\n",
    "\n",
    "* Create a summary data frame to hold the results\n",
    "\n",
    "\n",
    "* Optional: round the percentage column to two decimal points\n",
    "\n",
    "\n",
    "* Display Age Demographics Table\n"
   ]
  },
  {
   "cell_type": "code",
   "execution_count": 142,
   "metadata": {
    "scrolled": false
   },
   "outputs": [
    {
     "name": "stdout",
     "output_type": "stream",
     "text": [
      "<class 'pandas.core.series.Series'>\n",
      "       count     sum       sum%\n",
      "Age                            \n",
      "0-10      32  108.96   4.102564\n",
      "10-15     54  156.60   6.923077\n",
      "15-20    200  621.56  25.641026\n",
      "20-25    325  981.64  41.666667\n",
      "25-30     77  221.42   9.871795\n",
      "30-35     52  155.71   6.666667\n",
      "35-40     33  112.35   4.230769\n",
      "40+        7   21.53   0.897436\n"
     ]
    },
    {
     "data": {
      "text/plain": [
       "pandas.core.frame.DataFrame"
      ]
     },
     "execution_count": 142,
     "metadata": {},
     "output_type": "execute_result"
    }
   ],
   "source": [
    "bins = [0 ,10,15,20,25,30,35,40,100]\n",
    "labels = [\"0-10\",\"10-15\",\"15-20\", \"20-25\", \"25-30\" ,\"30-35\", \"35-40\" , \"40+\"]\n",
    "#binned_data = purchase_data.groupby(pd.cut(purchase_data[\"Age\"], bins, labels = labels))\n",
    "binned_data = pd.cut(purchase_data[\"Age\"], bins, labels = labels)\n",
    "print(type(binned_data))\n",
    "\n",
    "new_data  = purchase_data.groupby(binned_data)['Price'].agg(['count', 'sum'])\n",
    "#new_data =  purchase_data.groupby(binned_data)[\"Age\"].sum()\n",
    "new_data[\"sum%\"] = new_data[\"count\"] / ( count_m + count_f + count_o) * 100\n",
    "print(new_data)\n",
    "#bin_groups = binned_data.groupby[\"Age\"]\n",
    "#myframe = pd.Series.to_frame(binned_data)\n",
    "#print(pd.value_counts(binned_data))\n",
    "#binned_data.groupby(bins)['Value'].agg(['count', 'sum']\n",
    "type(new_data)                    \n",
    "#grouped = myframe.group_by(\"Age\")\n",
    "#new_pd  = pd.DataFrame.from_dict(binned_data)\n",
    "#new_pd\n",
    "#print(binned_data)"
   ]
  },
  {
   "cell_type": "markdown",
   "metadata": {},
   "source": [
    "## Purchasing Analysis (Age)"
   ]
  },
  {
   "cell_type": "markdown",
   "metadata": {},
   "source": [
    "* Bin the purchase_data data frame by age\n",
    "\n",
    "\n",
    "* Run basic calculations to obtain purchase count, avg. purchase price, avg. purchase total per person etc. in the table below\n",
    "\n",
    "\n",
    "* Create a summary data frame to hold the results\n",
    "\n",
    "\n",
    "* Optional: give the displayed data cleaner formatting\n",
    "\n",
    "\n",
    "* Display the summary data frame"
   ]
  },
  {
   "cell_type": "code",
   "execution_count": 165,
   "metadata": {},
   "outputs": [
    {
     "name": "stdout",
     "output_type": "stream",
     "text": [
      "       count     sum  average cost\n",
      "Age                               \n",
      "0-10      32  108.96      3.405000\n",
      "10-15     54  156.60      2.900000\n",
      "15-20    200  621.56      3.107800\n",
      "20-25    325  981.64      3.020431\n",
      "25-30     77  221.42      2.875584\n",
      "30-35     52  155.71      2.994423\n",
      "35-40     33  112.35      3.404545\n",
      "40+        7   21.53      3.075714\n"
     ]
    }
   ],
   "source": [
    "bins = [0 ,10,15,20,25,30,35,40,100]\n",
    "labels = [\"0-10\",\"10-15\",\"15-20\", \"20-25\", \"25-30\" ,\"30-35\", \"35-40\" , \"40+\"]\n",
    "#binned_data = purchase_data.groupby(pd.cut(purchase_data[\"Age\"], bins, labels = labels))\n",
    "binned_data = pd.cut(purchase_data[\"Age\"], bins, labels = labels)\n",
    "#print((binned_data))\n",
    "\n",
    "new_data  = purchase_data.groupby(binned_data)['Price'].agg(['count' , 'sum'])\n",
    "new_data[\"average cost\"] = new_data['sum']/new_data['count']\n",
    "print(new_data)\n",
    "#new_data =  purchase_data.groupby(binned_data)[\"Age\"].sum()\n",
    "#new_data[\"sum%\"] = new_data[\"count\"] / ( count_m + count_f + count_o) * 100\n"
   ]
  },
  {
   "cell_type": "markdown",
   "metadata": {},
   "source": [
    "## Top Spenders"
   ]
  },
  {
   "cell_type": "markdown",
   "metadata": {},
   "source": [
    "* Run basic calculations to obtain the results in the table below\n",
    "\n",
    "\n",
    "* Create a summary data frame to hold the results\n",
    "\n",
    "\n",
    "* Sort the total purchase value column in descending order\n",
    "\n",
    "\n",
    "* Optional: give the displayed data cleaner formatting\n",
    "\n",
    "\n",
    "* Display a preview of the summary data frame\n",
    "\n"
   ]
  },
  {
   "cell_type": "code",
   "execution_count": 183,
   "metadata": {},
   "outputs": [
    {
     "ename": "TypeError",
     "evalue": "'DataFrameGroupBy' object does not support item assignment",
     "output_type": "error",
     "traceback": [
      "\u001b[1;31m---------------------------------------------------------------------------\u001b[0m",
      "\u001b[1;31mTypeError\u001b[0m                                 Traceback (most recent call last)",
      "\u001b[1;32m<ipython-input-183-31c98503299f>\u001b[0m in \u001b[0;36m<module>\u001b[1;34m\u001b[0m\n\u001b[0;32m      1\u001b[0m \u001b[0mgrouped_data\u001b[0m \u001b[1;33m=\u001b[0m \u001b[0mpurchase_data\u001b[0m\u001b[1;33m.\u001b[0m\u001b[0mgroupby\u001b[0m\u001b[1;33m(\u001b[0m\u001b[1;33m[\u001b[0m\u001b[1;34m\"SN\"\u001b[0m\u001b[1;33m]\u001b[0m\u001b[1;33m)\u001b[0m\u001b[1;33m\u001b[0m\u001b[1;33m\u001b[0m\u001b[0m\n\u001b[0;32m      2\u001b[0m \u001b[0mgrouped_data\u001b[0m\u001b[1;33m[\u001b[0m\u001b[1;34m\"Price\"\u001b[0m\u001b[1;33m]\u001b[0m\u001b[1;33m.\u001b[0m\u001b[0msum\u001b[0m\u001b[1;33m(\u001b[0m\u001b[1;33m)\u001b[0m\u001b[1;33m.\u001b[0m\u001b[0msort_values\u001b[0m\u001b[1;33m(\u001b[0m\u001b[0mascending\u001b[0m\u001b[1;33m=\u001b[0m\u001b[1;32mFalse\u001b[0m\u001b[1;33m)\u001b[0m\u001b[1;33m\u001b[0m\u001b[1;33m\u001b[0m\u001b[0m\n\u001b[1;32m----> 3\u001b[1;33m \u001b[0mgrouped_data\u001b[0m\u001b[1;33m[\u001b[0m\u001b[1;34m\"avg price\"\u001b[0m\u001b[1;33m]\u001b[0m \u001b[1;33m=\u001b[0m \u001b[0mgrouped_data\u001b[0m\u001b[1;33m[\u001b[0m\u001b[1;34m\"Price\"\u001b[0m\u001b[1;33m]\u001b[0m\u001b[1;33m.\u001b[0m\u001b[0msum\u001b[0m\u001b[1;33m(\u001b[0m\u001b[1;33m)\u001b[0m\u001b[1;33m/\u001b[0m\u001b[0mgrouped_data\u001b[0m\u001b[1;33m[\u001b[0m\u001b[1;34m\"Price\"\u001b[0m\u001b[1;33m]\u001b[0m\u001b[1;33m.\u001b[0m\u001b[0mcount\u001b[0m\u001b[1;33m(\u001b[0m\u001b[1;33m)\u001b[0m\u001b[1;33m\u001b[0m\u001b[1;33m\u001b[0m\u001b[0m\n\u001b[0m\u001b[0;32m      4\u001b[0m \u001b[1;31m#type(grouped_data[\"Price\"].sum())\u001b[0m\u001b[1;33m\u001b[0m\u001b[1;33m\u001b[0m\u001b[1;33m\u001b[0m\u001b[0m\n\u001b[0;32m      5\u001b[0m \u001b[1;31m#print(grouped_data)\u001b[0m\u001b[1;33m\u001b[0m\u001b[1;33m\u001b[0m\u001b[1;33m\u001b[0m\u001b[0m\n",
      "\u001b[1;31mTypeError\u001b[0m: 'DataFrameGroupBy' object does not support item assignment"
     ]
    }
   ],
   "source": [
    "grouped_data = purchase_data.groupby([\"SN\"])\n",
    "grouped_data[\"Price\"].sum().sort_values(ascending=False)\n",
    "\n",
    "#type(grouped_data[\"Price\"].sum())\n",
    "#print(grouped_data)\n",
    "#grouped_data.head(10)"
   ]
  },
  {
   "cell_type": "markdown",
   "metadata": {},
   "source": [
    "## Most Popular Items"
   ]
  },
  {
   "cell_type": "markdown",
   "metadata": {},
   "source": [
    "* Retrieve the Item ID, Item Name, and Item Price columns\n",
    "\n",
    "\n",
    "* Group by Item ID and Item Name. Perform calculations to obtain purchase count, item price, and total purchase value\n",
    "\n",
    "\n",
    "* Create a summary data frame to hold the results\n",
    "\n",
    "\n",
    "* Sort the purchase count column in descending order\n",
    "\n",
    "\n",
    "* Optional: give the displayed data cleaner formatting\n",
    "\n",
    "\n",
    "* Display a preview of the summary data frame\n",
    "\n"
   ]
  },
  {
   "cell_type": "code",
   "execution_count": 192,
   "metadata": {},
   "outputs": [
    {
     "data": {
      "text/plain": [
       "Item ID  Item Name                                   \n",
       "178      Oathbreaker, Last Hope of the Breaking Storm    12\n",
       "82       Nirvana                                          9\n",
       "108      Extraction, Quickblade Of Trembling Hands        9\n",
       "145      Fiery Glass Crusader                             9\n",
       "92       Final Critic                                     8\n",
       "                                                         ..\n",
       "42       The Decapitator                                  1\n",
       "118      Ghost Reaver, Longsword of Magic                 1\n",
       "104      Gladiator's Glaive                               1\n",
       "27       Riddle, Tribute of Ended Dreams                  1\n",
       "51       Endbringer                                       1\n",
       "Name: Price, Length: 183, dtype: int64"
      ]
     },
     "execution_count": 192,
     "metadata": {},
     "output_type": "execute_result"
    }
   ],
   "source": [
    "new_data  = purchase_data.groupby([\"Item ID\", \"Item Name\"])\n",
    "new_data[\"Price\"].count().sort_values(ascending=False)"
   ]
  },
  {
   "cell_type": "markdown",
   "metadata": {},
   "source": [
    "## Most Profitable Items"
   ]
  },
  {
   "cell_type": "markdown",
   "metadata": {},
   "source": [
    "* Sort the above table by total purchase value in descending order\n",
    "\n",
    "\n",
    "* Optional: give the displayed data cleaner formatting\n",
    "\n",
    "\n",
    "* Display a preview of the data frame\n",
    "\n"
   ]
  },
  {
   "cell_type": "code",
   "execution_count": 190,
   "metadata": {
    "scrolled": true
   },
   "outputs": [
    {
     "data": {
      "text/plain": [
       "Item ID  Item Name                                   \n",
       "178      Oathbreaker, Last Hope of the Breaking Storm    50.76\n",
       "82       Nirvana                                         44.10\n",
       "145      Fiery Glass Crusader                            41.22\n",
       "92       Final Critic                                    39.04\n",
       "103      Singed Scalpel                                  34.80\n",
       "                                                         ...  \n",
       "125      Whistling Mithril Warblade                       2.00\n",
       "126      Exiled Mithril Longsword                         2.00\n",
       "23       Crucifer                                         1.99\n",
       "104      Gladiator's Glaive                               1.93\n",
       "42       The Decapitator                                  1.75\n",
       "Name: Price, Length: 183, dtype: float64"
      ]
     },
     "execution_count": 190,
     "metadata": {},
     "output_type": "execute_result"
    }
   ],
   "source": [
    "new_data  = purchase_data.groupby([\"Item ID\", \"Item Name\"])\n",
    "new_data[\"Price\"].sum().sort_values(ascending=False)"
   ]
  }
 ],
 "metadata": {
  "anaconda-cloud": {},
  "kernel_info": {
   "name": "python3"
  },
  "kernelspec": {
   "display_name": "Python 3",
   "language": "python",
   "name": "python3"
  },
  "language_info": {
   "codemirror_mode": {
    "name": "ipython",
    "version": 3
   },
   "file_extension": ".py",
   "mimetype": "text/x-python",
   "name": "python",
   "nbconvert_exporter": "python",
   "pygments_lexer": "ipython3",
   "version": "3.7.4"
  },
  "latex_envs": {
   "LaTeX_envs_menu_present": true,
   "autoclose": false,
   "autocomplete": true,
   "bibliofile": "biblio.bib",
   "cite_by": "apalike",
   "current_citInitial": 1,
   "eqLabelWithNumbers": true,
   "eqNumInitial": 1,
   "hotkeys": {
    "equation": "Ctrl-E",
    "itemize": "Ctrl-I"
   },
   "labels_anchors": false,
   "latex_user_defs": false,
   "report_style_numbering": false,
   "user_envs_cfg": false
  },
  "nteract": {
   "version": "0.2.0"
  }
 },
 "nbformat": 4,
 "nbformat_minor": 2
}
